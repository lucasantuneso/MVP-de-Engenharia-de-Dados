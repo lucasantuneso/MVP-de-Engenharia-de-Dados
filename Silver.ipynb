{
 "cells": [
  {
   "cell_type": "markdown",
   "metadata": {
    "application/vnd.databricks.v1+cell": {
     "cellMetadata": {
      "byteLimit": 2048000,
      "rowLimit": 10000
     },
     "inputWidgets": {},
     "nuid": "57cd0d28-f16f-47d0-ba67-5144819dc6fa",
     "showTitle": false,
     "title": ""
    }
   },
   "source": [
    "%md\n",
    "Carregar e Renomear Colunas"
   ]
  },
  {
   "cell_type": "code",
   "execution_count": 0,
   "metadata": {
    "application/vnd.databricks.v1+cell": {
     "cellMetadata": {
      "byteLimit": 2048000,
      "rowLimit": 10000
     },
     "inputWidgets": {},
     "nuid": "30727faa-e072-4cb3-8422-e3145038b65c",
     "showTitle": false,
     "title": ""
    }
   },
   "outputs": [
    {
     "output_type": "stream",
     "name": "stdout",
     "output_type": "stream",
     "text": [
      "root\n |-- partida_id: integer (nullable = true)\n |-- rodata: integer (nullable = true)\n |-- clube: string (nullable = true)\n |-- cartao: string (nullable = true)\n |-- atleta: string (nullable = true)\n |-- num_camisa: integer (nullable = true)\n |-- posicao: string (nullable = true)\n |-- minuto: integer (nullable = true)\n\nroot\n |-- partida_id: integer (nullable = true)\n |-- rodata: integer (nullable = true)\n |-- clube: string (nullable = true)\n |-- atleta: string (nullable = true)\n |-- minuto: integer (nullable = true)\n |-- tipo_de_gol: string (nullable = true)\n\nroot\n |-- partida_id: integer (nullable = true)\n |-- rodata: integer (nullable = true)\n |-- clube: string (nullable = true)\n |-- chutes: integer (nullable = true)\n |-- chutes_no_alvo: integer (nullable = true)\n |-- posse_de_bola: float (nullable = true)\n |-- passes: integer (nullable = true)\n |-- precisao_passes: float (nullable = true)\n |-- faltas: integer (nullable = true)\n |-- cartao_amarelo: integer (nullable = true)\n |-- cartao_vermelho: integer (nullable = true)\n |-- impedimentos: integer (nullable = true)\n |-- escanteios: integer (nullable = true)\n\nroot\n |-- ID: integer (nullable = true)\n |-- rodata: integer (nullable = true)\n |-- data: string (nullable = true)\n |-- hora: string (nullable = true)\n |-- mandante: string (nullable = true)\n |-- visitante: string (nullable = true)\n |-- formacao_mandante: string (nullable = true)\n |-- formacao_visitante: string (nullable = true)\n |-- tecnico_mandante: string (nullable = true)\n |-- tecnico_visitante: string (nullable = true)\n |-- vencedor: string (nullable = true)\n |-- arena: string (nullable = true)\n |-- mandante_Placar: integer (nullable = true)\n |-- visitante_Placar: integer (nullable = true)\n |-- mandante_Estado: string (nullable = true)\n |-- visitante_Estado: string (nullable = true)\n\n"
     ]
    }
   ],
   "source": [
    "from pyspark.sql import functions as F\n",
    "from pyspark.sql.types import IntegerType, FloatType, StringType\n",
    "\n",
    "# Função para exibir valores nulos\n",
    "def exibir_valores_nulos(df):\n",
    "    null_counts = df.select([F.count(F.when(F.col(c).isNull(), c)).alias(c) for c in df.columns])\n",
    "    display(null_counts)\n",
    "\n",
    "# Carregar tabelas Bronze\n",
    "cartoes_bronze_df = spark.table(\"campeonato_brasileiro_cartoes_csv\")\n",
    "gols_bronze_df = spark.table(\"campeonato_brasileiro_gols_csv\")\n",
    "estatisticas_bronze_df = spark.table(\"campeonato_brasileiro_estatisticas_full_csv\")\n",
    "full_bronze_df = spark.table(\"campeonato_brasileiro_full_csv\")\n",
    "\n",
    "# Renomear colunas\n",
    "cartoes_bronze_df = cartoes_bronze_df.withColumnRenamed(\"_c0\", \"partida_id\") \\\n",
    "                                     .withColumnRenamed(\"_c1\", \"rodata\") \\\n",
    "                                     .withColumnRenamed(\"_c2\", \"clube\") \\\n",
    "                                     .withColumnRenamed(\"_c3\", \"cartao\") \\\n",
    "                                     .withColumnRenamed(\"_c4\", \"atleta\") \\\n",
    "                                     .withColumnRenamed(\"_c5\", \"num_camisa\") \\\n",
    "                                     .withColumnRenamed(\"_c6\", \"posicao\") \\\n",
    "                                     .withColumnRenamed(\"_c7\", \"minuto\")\n",
    "\n",
    "gols_bronze_df = gols_bronze_df.withColumnRenamed(\"_c0\", \"partida_id\") \\\n",
    "                               .withColumnRenamed(\"_c1\", \"rodata\") \\\n",
    "                               .withColumnRenamed(\"_c2\", \"clube\") \\\n",
    "                               .withColumnRenamed(\"_c3\", \"atleta\") \\\n",
    "                               .withColumnRenamed(\"_c4\", \"minuto\") \\\n",
    "                               .withColumnRenamed(\"_c5\", \"tipo_de_gol\")\n",
    "\n",
    "estatisticas_bronze_df = estatisticas_bronze_df.withColumnRenamed(\"_c0\", \"partida_id\") \\\n",
    "                                               .withColumnRenamed(\"_c1\", \"rodata\") \\\n",
    "                                               .withColumnRenamed(\"_c2\", \"clube\") \\\n",
    "                                               .withColumnRenamed(\"_c3\", \"chutes\") \\\n",
    "                                               .withColumnRenamed(\"_c4\", \"chutes_no_alvo\") \\\n",
    "                                               .withColumnRenamed(\"_c5\", \"posse_de_bola\") \\\n",
    "                                               .withColumnRenamed(\"_c6\", \"passes\") \\\n",
    "                                               .withColumnRenamed(\"_c7\", \"precisao_passes\") \\\n",
    "                                               .withColumnRenamed(\"_c8\", \"faltas\") \\\n",
    "                                               .withColumnRenamed(\"_c9\", \"cartao_amarelo\") \\\n",
    "                                               .withColumnRenamed(\"_c10\", \"cartao_vermelho\") \\\n",
    "                                               .withColumnRenamed(\"_c11\", \"impedimentos\") \\\n",
    "                                               .withColumnRenamed(\"_c12\", \"escanteios\")\n",
    "\n",
    "full_bronze_df = full_bronze_df.withColumnRenamed(\"_c0\", \"ID\") \\\n",
    "                               .withColumnRenamed(\"_c1\", \"rodata\") \\\n",
    "                               .withColumnRenamed(\"_c2\", \"data\") \\\n",
    "                               .withColumnRenamed(\"_c3\", \"hora\") \\\n",
    "                               .withColumnRenamed(\"_c4\", \"mandante\") \\\n",
    "                               .withColumnRenamed(\"_c5\", \"visitante\") \\\n",
    "                               .withColumnRenamed(\"_c6\", \"formacao_mandante\") \\\n",
    "                               .withColumnRenamed(\"_c7\", \"formacao_visitante\") \\\n",
    "                               .withColumnRenamed(\"_c8\", \"tecnico_mandante\") \\\n",
    "                               .withColumnRenamed(\"_c9\", \"tecnico_visitante\") \\\n",
    "                               .withColumnRenamed(\"_c10\", \"vencedor\") \\\n",
    "                               .withColumnRenamed(\"_c11\", \"arena\") \\\n",
    "                               .withColumnRenamed(\"_c12\", \"mandante_Placar\") \\\n",
    "                               .withColumnRenamed(\"_c13\", \"visitante_Placar\") \\\n",
    "                               .withColumnRenamed(\"_c14\", \"mandante_Estado\") \\\n",
    "                               .withColumnRenamed(\"_c15\", \"visitante_Estado\")\n",
    "\n",
    "# Converter colunas para os tipos de dados apropriados\n",
    "cartoes_bronze_df = cartoes_bronze_df.withColumn(\"partida_id\", F.col(\"partida_id\").cast(IntegerType())) \\\n",
    "                                     .withColumn(\"rodata\", F.col(\"rodata\").cast(IntegerType())) \\\n",
    "                                     .withColumn(\"num_camisa\", F.col(\"num_camisa\").cast(IntegerType())) \\\n",
    "                                     .withColumn(\"minuto\", F.col(\"minuto\").cast(IntegerType()))\n",
    "\n",
    "gols_bronze_df = gols_bronze_df.withColumn(\"partida_id\", F.col(\"partida_id\").cast(IntegerType())) \\\n",
    "                               .withColumn(\"rodata\", F.col(\"rodata\").cast(IntegerType())) \\\n",
    "                               .withColumn(\"minuto\", F.col(\"minuto\").cast(IntegerType()))\n",
    "\n",
    "estatisticas_bronze_df = estatisticas_bronze_df.withColumn(\"partida_id\", F.col(\"partida_id\").cast(IntegerType())) \\\n",
    "                                               .withColumn(\"rodata\", F.col(\"rodata\").cast(IntegerType())) \\\n",
    "                                               .withColumn(\"chutes\", F.col(\"chutes\").cast(IntegerType())) \\\n",
    "                                               .withColumn(\"chutes_no_alvo\", F.col(\"chutes_no_alvo\").cast(IntegerType())) \\\n",
    "                                               .withColumn(\"posse_de_bola\", F.col(\"posse_de_bola\").cast(FloatType())) \\\n",
    "                                               .withColumn(\"passes\", F.col(\"passes\").cast(IntegerType())) \\\n",
    "                                               .withColumn(\"precisao_passes\", F.col(\"precisao_passes\").cast(FloatType())) \\\n",
    "                                               .withColumn(\"faltas\", F.col(\"faltas\").cast(IntegerType())) \\\n",
    "                                               .withColumn(\"cartao_amarelo\", F.col(\"cartao_amarelo\").cast(IntegerType())) \\\n",
    "                                               .withColumn(\"cartao_vermelho\", F.col(\"cartao_vermelho\").cast(IntegerType())) \\\n",
    "                                               .withColumn(\"impedimentos\", F.col(\"impedimentos\").cast(IntegerType())) \\\n",
    "                                               .withColumn(\"escanteios\", F.col(\"escanteios\").cast(IntegerType()))\n",
    "\n",
    "full_bronze_df = full_bronze_df.withColumn(\"ID\", F.col(\"ID\").cast(IntegerType())) \\\n",
    "                               .withColumn(\"rodata\", F.col(\"rodata\").cast(IntegerType())) \\\n",
    "                               .withColumn(\"mandante_Placar\", F.col(\"mandante_Placar\").cast(IntegerType())) \\\n",
    "                               .withColumn(\"visitante_Placar\", F.col(\"visitante_Placar\").cast(IntegerType()))\n",
    "\n",
    "# Verificar colunas e tipos de dados\n",
    "cartoes_bronze_df.printSchema()\n",
    "gols_bronze_df.printSchema()\n",
    "estatisticas_bronze_df.printSchema()\n",
    "full_bronze_df.printSchema()"
   ]
  },
  {
   "cell_type": "markdown",
   "metadata": {
    "application/vnd.databricks.v1+cell": {
     "cellMetadata": {
      "byteLimit": 2048000,
      "rowLimit": 10000
     },
     "inputWidgets": {},
     "nuid": "d9d772b8-755b-4568-b65f-6ffea492b6e7",
     "showTitle": false,
     "title": ""
    }
   },
   "source": [
    "Limpeza e Transformação de Dados"
   ]
  },
  {
   "cell_type": "code",
   "execution_count": 0,
   "metadata": {
    "application/vnd.databricks.v1+cell": {
     "cellMetadata": {
      "byteLimit": 2048000,
      "rowLimit": 10000
     },
     "inputWidgets": {},
     "nuid": "b9a75020-0a2a-44ee-a0d7-6fa82da38d7f",
     "showTitle": false,
     "title": ""
    }
   },
   "outputs": [
    {
     "output_type": "display_data",
     "data": {
      "text/html": [
       "<style scoped>\n",
       "  .table-result-container {\n",
       "    max-height: 300px;\n",
       "    overflow: auto;\n",
       "  }\n",
       "  table, th, td {\n",
       "    border: 1px solid black;\n",
       "    border-collapse: collapse;\n",
       "  }\n",
       "  th, td {\n",
       "    padding: 5px;\n",
       "  }\n",
       "  th {\n",
       "    text-align: left;\n",
       "  }\n",
       "</style><div class='table-result-container'><table class='table-result'><thead style='background-color: white'><tr><th>partida_id</th><th>rodata</th><th>clube</th><th>cartao</th><th>atleta</th><th>num_camisa</th><th>posicao</th><th>minuto</th></tr></thead><tbody><tr><td>0</td><td>0</td><td>0</td><td>0</td><td>0</td><td>0</td><td>0</td><td>0</td></tr></tbody></table></div>"
      ]
     },
     "metadata": {
      "application/vnd.databricks.v1+output": {
       "addedWidgets": {},
       "aggData": [],
       "aggError": "",
       "aggOverflow": false,
       "aggSchema": [],
       "aggSeriesLimitReached": false,
       "aggType": "",
       "arguments": {},
       "columnCustomDisplayInfos": {},
       "data": [
        [
         0,
         0,
         0,
         0,
         0,
         0,
         0,
         0
        ]
       ],
       "datasetInfos": [],
       "dbfsResultPath": null,
       "isJsonSchema": true,
       "metadata": {},
       "overflow": false,
       "plotOptions": {
        "customPlotOptions": {},
        "displayType": "table",
        "pivotAggregation": null,
        "pivotColumns": null,
        "xColumns": null,
        "yColumns": null
       },
       "removedWidgets": [],
       "schema": [
        {
         "metadata": "{}",
         "name": "partida_id",
         "type": "\"long\""
        },
        {
         "metadata": "{}",
         "name": "rodata",
         "type": "\"long\""
        },
        {
         "metadata": "{}",
         "name": "clube",
         "type": "\"long\""
        },
        {
         "metadata": "{}",
         "name": "cartao",
         "type": "\"long\""
        },
        {
         "metadata": "{}",
         "name": "atleta",
         "type": "\"long\""
        },
        {
         "metadata": "{}",
         "name": "num_camisa",
         "type": "\"long\""
        },
        {
         "metadata": "{}",
         "name": "posicao",
         "type": "\"long\""
        },
        {
         "metadata": "{}",
         "name": "minuto",
         "type": "\"long\""
        }
       ],
       "type": "table"
      }
     },
     "output_type": "display_data"
    },
    {
     "output_type": "stream",
     "name": "stdout",
     "output_type": "stream",
     "text": [
      "Cartões Silver corrigidos e salvos com sucesso.\n"
     ]
    }
   ],
   "source": [
    "# Limpeza de Dados - Cartões\n",
    "cartoes_silver_df = cartoes_bronze_df.dropDuplicates()\n",
    "cartoes_silver_df = cartoes_silver_df.fillna({\"posicao\": \"Desconhecido\", \"num_camisa\": 0})\n",
    "cartoes_silver_df = cartoes_silver_df.fillna({\"cartao\": \"Desconhecido\", \"atleta\": \"Desconhecido\"})\n",
    "cartoes_silver_df = cartoes_silver_df.dropna(subset=[\"partida_id\", \"rodata\", \"clube\", \"minuto\"])\n",
    "\n",
    "# Verificar valores nulos\n",
    "exibir_valores_nulos(cartoes_silver_df)\n",
    "\n",
    "# Criar tabela temporária e salvar como tabela permanente\n",
    "cartoes_silver_df.createOrReplaceTempView(\"campeonato_brasileiro_cartoes_silver\")\n",
    "cartoes_silver_df.write.format(\"parquet\").mode(\"overwrite\").saveAsTable(\"campeonato_brasileiro_cartoes_silver\")\n",
    "\n",
    "print(\"Cartões Silver corrigidos e salvos com sucesso.\")"
   ]
  },
  {
   "cell_type": "code",
   "execution_count": 0,
   "metadata": {
    "application/vnd.databricks.v1+cell": {
     "cellMetadata": {
      "byteLimit": 2048000,
      "rowLimit": 10000
     },
     "inputWidgets": {},
     "nuid": "9e3d7b90-bd58-4790-8818-efe0f1b3ff2b",
     "showTitle": false,
     "title": ""
    }
   },
   "outputs": [
    {
     "output_type": "display_data",
     "data": {
      "text/html": [
       "<style scoped>\n",
       "  .table-result-container {\n",
       "    max-height: 300px;\n",
       "    overflow: auto;\n",
       "  }\n",
       "  table, th, td {\n",
       "    border: 1px solid black;\n",
       "    border-collapse: collapse;\n",
       "  }\n",
       "  th, td {\n",
       "    padding: 5px;\n",
       "  }\n",
       "  th {\n",
       "    text-align: left;\n",
       "  }\n",
       "</style><div class='table-result-container'><table class='table-result'><thead style='background-color: white'><tr><th>partida_id</th><th>rodata</th><th>clube</th><th>atleta</th><th>minuto</th><th>tipo_de_gol</th></tr></thead><tbody><tr><td>0</td><td>0</td><td>0</td><td>0</td><td>0</td><td>0</td></tr></tbody></table></div>"
      ]
     },
     "metadata": {
      "application/vnd.databricks.v1+output": {
       "addedWidgets": {},
       "aggData": [],
       "aggError": "",
       "aggOverflow": false,
       "aggSchema": [],
       "aggSeriesLimitReached": false,
       "aggType": "",
       "arguments": {},
       "columnCustomDisplayInfos": {},
       "data": [
        [
         0,
         0,
         0,
         0,
         0,
         0
        ]
       ],
       "datasetInfos": [],
       "dbfsResultPath": null,
       "isJsonSchema": true,
       "metadata": {},
       "overflow": false,
       "plotOptions": {
        "customPlotOptions": {},
        "displayType": "table",
        "pivotAggregation": null,
        "pivotColumns": null,
        "xColumns": null,
        "yColumns": null
       },
       "removedWidgets": [],
       "schema": [
        {
         "metadata": "{}",
         "name": "partida_id",
         "type": "\"long\""
        },
        {
         "metadata": "{}",
         "name": "rodata",
         "type": "\"long\""
        },
        {
         "metadata": "{}",
         "name": "clube",
         "type": "\"long\""
        },
        {
         "metadata": "{}",
         "name": "atleta",
         "type": "\"long\""
        },
        {
         "metadata": "{}",
         "name": "minuto",
         "type": "\"long\""
        },
        {
         "metadata": "{}",
         "name": "tipo_de_gol",
         "type": "\"long\""
        }
       ],
       "type": "table"
      }
     },
     "output_type": "display_data"
    },
    {
     "output_type": "stream",
     "name": "stdout",
     "output_type": "stream",
     "text": [
      "Gols Silver corrigidos e salvos com sucesso.\n"
     ]
    }
   ],
   "source": [
    "# Limpeza de Dados - Gols\n",
    "gols_silver_df = gols_bronze_df.dropDuplicates()\n",
    "gols_silver_df = gols_silver_df.fillna({\"tipo_de_gol\": \"Desconhecido\"})\n",
    "gols_silver_df = gols_silver_df.fillna({\"atleta\": \"Desconhecido\"})\n",
    "gols_silver_df = gols_silver_df.dropna(subset=[\"partida_id\", \"rodata\", \"clube\", \"minuto\"])\n",
    "\n",
    "# Verificar valores nulos\n",
    "exibir_valores_nulos(gols_silver_df)\n",
    "\n",
    "# Criar tabela temporária e salvar como tabela permanente\n",
    "gols_silver_df.createOrReplaceTempView(\"campeonato_brasileiro_gols_silver\")\n",
    "gols_silver_df.write.format(\"parquet\").mode(\"overwrite\").saveAsTable(\"campeonato_brasileiro_gols_silver\")\n",
    "\n",
    "print(\"Gols Silver corrigidos e salvos com sucesso.\")"
   ]
  },
  {
   "cell_type": "code",
   "execution_count": 0,
   "metadata": {
    "application/vnd.databricks.v1+cell": {
     "cellMetadata": {
      "byteLimit": 2048000,
      "rowLimit": 10000
     },
     "inputWidgets": {},
     "nuid": "3540c368-cb21-451c-81f1-44b2c53aa5b5",
     "showTitle": false,
     "title": ""
    }
   },
   "outputs": [
    {
     "output_type": "display_data",
     "data": {
      "text/html": [
       "<style scoped>\n",
       "  .table-result-container {\n",
       "    max-height: 300px;\n",
       "    overflow: auto;\n",
       "  }\n",
       "  table, th, td {\n",
       "    border: 1px solid black;\n",
       "    border-collapse: collapse;\n",
       "  }\n",
       "  th, td {\n",
       "    padding: 5px;\n",
       "  }\n",
       "  th {\n",
       "    text-align: left;\n",
       "  }\n",
       "</style><div class='table-result-container'><table class='table-result'><thead style='background-color: white'><tr><th>partida_id</th><th>rodata</th><th>clube</th><th>chutes</th><th>chutes_no_alvo</th><th>posse_de_bola</th><th>passes</th><th>precisao_passes</th><th>faltas</th><th>cartao_amarelo</th><th>cartao_vermelho</th><th>impedimentos</th><th>escanteios</th></tr></thead><tbody><tr><td>0</td><td>0</td><td>0</td><td>0</td><td>0</td><td>0</td><td>0</td><td>0</td><td>0</td><td>0</td><td>0</td><td>0</td><td>0</td></tr></tbody></table></div>"
      ]
     },
     "metadata": {
      "application/vnd.databricks.v1+output": {
       "addedWidgets": {},
       "aggData": [],
       "aggError": "",
       "aggOverflow": false,
       "aggSchema": [],
       "aggSeriesLimitReached": false,
       "aggType": "",
       "arguments": {},
       "columnCustomDisplayInfos": {},
       "data": [
        [
         0,
         0,
         0,
         0,
         0,
         0,
         0,
         0,
         0,
         0,
         0,
         0,
         0
        ]
       ],
       "datasetInfos": [],
       "dbfsResultPath": null,
       "isJsonSchema": true,
       "metadata": {},
       "overflow": false,
       "plotOptions": {
        "customPlotOptions": {},
        "displayType": "table",
        "pivotAggregation": null,
        "pivotColumns": null,
        "xColumns": null,
        "yColumns": null
       },
       "removedWidgets": [],
       "schema": [
        {
         "metadata": "{}",
         "name": "partida_id",
         "type": "\"long\""
        },
        {
         "metadata": "{}",
         "name": "rodata",
         "type": "\"long\""
        },
        {
         "metadata": "{}",
         "name": "clube",
         "type": "\"long\""
        },
        {
         "metadata": "{}",
         "name": "chutes",
         "type": "\"long\""
        },
        {
         "metadata": "{}",
         "name": "chutes_no_alvo",
         "type": "\"long\""
        },
        {
         "metadata": "{}",
         "name": "posse_de_bola",
         "type": "\"long\""
        },
        {
         "metadata": "{}",
         "name": "passes",
         "type": "\"long\""
        },
        {
         "metadata": "{}",
         "name": "precisao_passes",
         "type": "\"long\""
        },
        {
         "metadata": "{}",
         "name": "faltas",
         "type": "\"long\""
        },
        {
         "metadata": "{}",
         "name": "cartao_amarelo",
         "type": "\"long\""
        },
        {
         "metadata": "{}",
         "name": "cartao_vermelho",
         "type": "\"long\""
        },
        {
         "metadata": "{}",
         "name": "impedimentos",
         "type": "\"long\""
        },
        {
         "metadata": "{}",
         "name": "escanteios",
         "type": "\"long\""
        }
       ],
       "type": "table"
      }
     },
     "output_type": "display_data"
    },
    {
     "output_type": "stream",
     "name": "stdout",
     "output_type": "stream",
     "text": [
      "Estatísticas Silver corrigidas e salvas com sucesso.\n"
     ]
    }
   ],
   "source": [
    "# Remover duplicatas e preencher valores nulos\n",
    "estatisticas_silver_df = estatisticas_bronze_df.dropDuplicates()\n",
    "estatisticas_silver_df = estatisticas_silver_df.fillna({\n",
    "    \"partida_id\": 0,\n",
    "    \"rodata\": 0,\n",
    "    \"chutes\": 0, \n",
    "    \"chutes_no_alvo\": 0, \n",
    "    \"posse_de_bola\": 0,\n",
    "    \"passes\": 0, \n",
    "    \"precisao_passes\": 0, \n",
    "    \"faltas\": 0, \n",
    "    \"cartao_amarelo\": 0, \n",
    "    \"cartao_vermelho\": 0,\n",
    "    \"impedimentos\": 0, \n",
    "    \"escanteios\": 0\n",
    "})\n",
    "\n",
    "# Calcular a média para a coluna 'precisao_passes'\n",
    "media_precisao_passes = estatisticas_silver_df.agg(F.mean(\"precisao_passes\")).first()[0]\n",
    "estatisticas_silver_df = estatisticas_silver_df.fillna({\"precisao_passes\": media_precisao_passes})\n",
    "\n",
    "# Verificar valores nulos\n",
    "exibir_valores_nulos(estatisticas_silver_df)\n",
    "\n",
    "# Criar tabela temporária e salvar como tabela permanente\n",
    "estatisticas_silver_df.createOrReplaceTempView(\"campeonato_brasileiro_estatisticas_silver\")\n",
    "estatisticas_silver_df.write.format(\"parquet\").mode(\"overwrite\").saveAsTable(\"campeonato_brasileiro_estatisticas_silver\")\n",
    "\n",
    "print(\"Estatísticas Silver corrigidas e salvas com sucesso.\")"
   ]
  },
  {
   "cell_type": "code",
   "execution_count": 0,
   "metadata": {
    "application/vnd.databricks.v1+cell": {
     "cellMetadata": {
      "byteLimit": 2048000,
      "rowLimit": 10000
     },
     "inputWidgets": {},
     "nuid": "ff7bc668-1aed-4ca6-a4ef-f1d9a142b23c",
     "showTitle": false,
     "title": ""
    }
   },
   "outputs": [
    {
     "output_type": "display_data",
     "data": {
      "text/html": [
       "<style scoped>\n",
       "  .table-result-container {\n",
       "    max-height: 300px;\n",
       "    overflow: auto;\n",
       "  }\n",
       "  table, th, td {\n",
       "    border: 1px solid black;\n",
       "    border-collapse: collapse;\n",
       "  }\n",
       "  th, td {\n",
       "    padding: 5px;\n",
       "  }\n",
       "  th {\n",
       "    text-align: left;\n",
       "  }\n",
       "</style><div class='table-result-container'><table class='table-result'><thead style='background-color: white'><tr><th>ID</th><th>rodata</th><th>data</th><th>hora</th><th>mandante</th><th>visitante</th><th>formacao_mandante</th><th>formacao_visitante</th><th>tecnico_mandante</th><th>tecnico_visitante</th><th>vencedor</th><th>arena</th><th>mandante_Placar</th><th>visitante_Placar</th><th>mandante_Estado</th><th>visitante_Estado</th></tr></thead><tbody><tr><td>0</td><td>0</td><td>0</td><td>0</td><td>0</td><td>0</td><td>0</td><td>0</td><td>0</td><td>0</td><td>0</td><td>0</td><td>0</td><td>0</td><td>0</td><td>0</td></tr></tbody></table></div>"
      ]
     },
     "metadata": {
      "application/vnd.databricks.v1+output": {
       "addedWidgets": {},
       "aggData": [],
       "aggError": "",
       "aggOverflow": false,
       "aggSchema": [],
       "aggSeriesLimitReached": false,
       "aggType": "",
       "arguments": {},
       "columnCustomDisplayInfos": {},
       "data": [
        [
         0,
         0,
         0,
         0,
         0,
         0,
         0,
         0,
         0,
         0,
         0,
         0,
         0,
         0,
         0,
         0
        ]
       ],
       "datasetInfos": [],
       "dbfsResultPath": null,
       "isJsonSchema": true,
       "metadata": {},
       "overflow": false,
       "plotOptions": {
        "customPlotOptions": {},
        "displayType": "table",
        "pivotAggregation": null,
        "pivotColumns": null,
        "xColumns": null,
        "yColumns": null
       },
       "removedWidgets": [],
       "schema": [
        {
         "metadata": "{}",
         "name": "ID",
         "type": "\"long\""
        },
        {
         "metadata": "{}",
         "name": "rodata",
         "type": "\"long\""
        },
        {
         "metadata": "{}",
         "name": "data",
         "type": "\"long\""
        },
        {
         "metadata": "{}",
         "name": "hora",
         "type": "\"long\""
        },
        {
         "metadata": "{}",
         "name": "mandante",
         "type": "\"long\""
        },
        {
         "metadata": "{}",
         "name": "visitante",
         "type": "\"long\""
        },
        {
         "metadata": "{}",
         "name": "formacao_mandante",
         "type": "\"long\""
        },
        {
         "metadata": "{}",
         "name": "formacao_visitante",
         "type": "\"long\""
        },
        {
         "metadata": "{}",
         "name": "tecnico_mandante",
         "type": "\"long\""
        },
        {
         "metadata": "{}",
         "name": "tecnico_visitante",
         "type": "\"long\""
        },
        {
         "metadata": "{}",
         "name": "vencedor",
         "type": "\"long\""
        },
        {
         "metadata": "{}",
         "name": "arena",
         "type": "\"long\""
        },
        {
         "metadata": "{}",
         "name": "mandante_Placar",
         "type": "\"long\""
        },
        {
         "metadata": "{}",
         "name": "visitante_Placar",
         "type": "\"long\""
        },
        {
         "metadata": "{}",
         "name": "mandante_Estado",
         "type": "\"long\""
        },
        {
         "metadata": "{}",
         "name": "visitante_Estado",
         "type": "\"long\""
        }
       ],
       "type": "table"
      }
     },
     "output_type": "display_data"
    },
    {
     "output_type": "stream",
     "name": "stdout",
     "output_type": "stream",
     "text": [
      "Full Silver corrigidos e salvos com sucesso.\n"
     ]
    }
   ],
   "source": [
    "# Limpeza de Dados - Full\n",
    "full_silver_df = full_bronze_df.dropDuplicates()\n",
    "full_silver_df = full_silver_df.fillna({\n",
    "    \"formacao_mandante\": \"Desconhecido\", \n",
    "    \"formacao_visitante\": \"Desconhecido\",\n",
    "    \"tecnico_mandante\": \"Desconhecido\", \n",
    "    \"tecnico_visitante\": \"Desconhecido\", \n",
    "    \"arena\": \"Desconhecido\"\n",
    "})\n",
    "full_silver_df = full_silver_df.dropna(subset=[\"ID\", \"rodata\", \"data\", \"hora\", \"mandante\", \"visitante\", \"mandante_Placar\", \"visitante_Placar\"])\n",
    "\n",
    "# Verificar valores nulos\n",
    "exibir_valores_nulos(full_silver_df)\n",
    "\n",
    "# Criar tabela temporária e salvar como tabela permanente\n",
    "full_silver_df.createOrReplaceTempView(\"campeonato_brasileiro_full_silver\")\n",
    "full_silver_df.write.format(\"parquet\").mode(\"overwrite\").saveAsTable(\"campeonato_brasileiro_full_silver\")\n",
    "\n",
    "print(\"Full Silver corrigidos e salvos com sucesso.\")"
   ]
  }
 ],
 "metadata": {
  "application/vnd.databricks.v1+notebook": {
   "dashboards": [],
   "environmentMetadata": null,
   "language": "python",
   "notebookMetadata": {
    "pythonIndentUnit": 4
   },
   "notebookName": "Silver",
   "widgets": {}
  }
 },
 "nbformat": 4,
 "nbformat_minor": 0
}
