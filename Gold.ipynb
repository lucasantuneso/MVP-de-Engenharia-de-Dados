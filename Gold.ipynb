{
 "cells": [
  {
   "cell_type": "code",
   "execution_count": 0,
   "metadata": {
    "application/vnd.databricks.v1+cell": {
     "cellMetadata": {
      "byteLimit": 2048000,
      "rowLimit": 10000
     },
     "inputWidgets": {},
     "nuid": "58af76a8-23c6-4f6f-b45b-91ee3b8e40ec",
     "showTitle": false,
     "title": ""
    }
   },
   "outputs": [
    {
     "output_type": "stream",
     "name": "stdout",
     "output_type": "stream",
     "text": [
      "Out[11]: DataFrame[]"
     ]
    }
   ],
   "source": [
    "spark.sql(\"DROP TABLE IF EXISTS fatos_clubes\")\n",
    "spark.sql(\"DROP TABLE IF EXISTS dim_jogadores\")\n",
    "spark.sql(\"DROP TABLE IF EXISTS dim_clubes\")\n",
    "spark.sql(\"DROP TABLE IF EXISTS dim_partidas\")"
   ]
  },
  {
   "cell_type": "markdown",
   "metadata": {
    "application/vnd.databricks.v1+cell": {
     "cellMetadata": {
      "byteLimit": 2048000,
      "rowLimit": 10000
     },
     "inputWidgets": {},
     "nuid": "bac96e0b-2688-4229-a5fb-e4203c858378",
     "showTitle": false,
     "title": ""
    }
   },
   "source": [
    "Importação de Funções e Carregamento das Tabelas Silver"
   ]
  },
  {
   "cell_type": "code",
   "execution_count": 0,
   "metadata": {
    "application/vnd.databricks.v1+cell": {
     "cellMetadata": {
      "byteLimit": 2048000,
      "rowLimit": 10000
     },
     "inputWidgets": {},
     "nuid": "76e08b93-0f5c-4899-89bf-98aad496901a",
     "showTitle": false,
     "title": ""
    }
   },
   "outputs": [],
   "source": [
    "from pyspark.sql import functions as F\n",
    "\n",
    "# Carregar tabelas Silver\n",
    "cartoes_silver_df = spark.table(\"campeonato_brasileiro_cartoes_silver\")\n",
    "gols_silver_df = spark.table(\"campeonato_brasileiro_gols_silver\")\n",
    "estatisticas_silver_df = spark.table(\"campeonato_brasileiro_estatisticas_silver\")\n",
    "full_silver_df = spark.table(\"campeonato_brasileiro_full_silver\")"
   ]
  },
  {
   "cell_type": "markdown",
   "metadata": {
    "application/vnd.databricks.v1+cell": {
     "cellMetadata": {
      "byteLimit": 2048000,
      "rowLimit": 10000
     },
     "inputWidgets": {},
     "nuid": "b67a5eee-3269-4b29-b615-1a7dbac301b4",
     "showTitle": false,
     "title": ""
    }
   },
   "source": [
    "Criação da Tabela de Fatos fatos_clubes:"
   ]
  },
  {
   "cell_type": "code",
   "execution_count": 0,
   "metadata": {
    "application/vnd.databricks.v1+cell": {
     "cellMetadata": {
      "byteLimit": 2048000,
      "rowLimit": 10000
     },
     "inputWidgets": {},
     "nuid": "d62575bc-8a47-49ec-87de-bb7ddeaeed3a",
     "showTitle": false,
     "title": ""
    }
   },
   "outputs": [],
   "source": [
    "# Tabela de Fatos: fatos_clubes\n",
    "fatos_clubes_df = cartoes_silver_df.groupBy(\"clube\").agg(\n",
    "    F.count(\"partida_id\").alias(\"total_partidas_cartoes\"),\n",
    "    F.sum(F.when(F.col(\"cartao\") == 'Amarelo', 1).otherwise(0)).alias(\"total_cartoes_amarelos\"),\n",
    "    F.sum(F.when(F.col(\"cartao\") == 'Vermelho', 1).otherwise(0)).alias(\"total_cartoes_vermelhos\")\n",
    ")\n",
    "\n",
    "fatos_vitorias_df = full_silver_df.groupBy(\"vencedor\").agg(\n",
    "    F.count(\"ID\").alias(\"total_vitorias\")\n",
    ").withColumnRenamed(\"vencedor\", \"clube\")\n",
    "\n",
    "# Combinar todas as tabelas de fatos em uma única tabela de fatos\n",
    "fatos_clubes_completo_df = fatos_clubes_df.join(fatos_vitorias_df, \"clube\", \"left\")\n",
    "\n",
    "# Calcular as médias necessárias\n",
    "fatos_clubes_completo_df = fatos_clubes_completo_df.withColumn(\n",
    "    \"media_cartoes_amarelos\", F.col(\"total_cartoes_amarelos\") / F.col(\"total_partidas_cartoes\")\n",
    ").withColumn(\n",
    "    \"media_cartoes_vermelhos\", F.col(\"total_cartoes_vermelhos\") / F.col(\"total_partidas_cartoes\")\n",
    ")"
   ]
  },
  {
   "cell_type": "markdown",
   "metadata": {
    "application/vnd.databricks.v1+cell": {
     "cellMetadata": {},
     "inputWidgets": {},
     "nuid": "9198e332-dfbf-4e1b-8564-5a54c7e2c2b8",
     "showTitle": false,
     "title": ""
    }
   },
   "source": [
    "Criação das Tabela de dimensão\n",
    "\n",
    "\n"
   ]
  },
  {
   "cell_type": "code",
   "execution_count": 0,
   "metadata": {
    "application/vnd.databricks.v1+cell": {
     "cellMetadata": {
      "byteLimit": 2048000,
      "rowLimit": 10000
     },
     "inputWidgets": {},
     "nuid": "adfa1131-c193-4535-9949-519fcab7e993",
     "showTitle": false,
     "title": ""
    }
   },
   "outputs": [
    {
     "output_type": "stream",
     "name": "stdout",
     "output_type": "stream",
     "text": [
      "+-----+----------------------+----------------------+-----------------------+--------------+----------------------+-----------------------+\n|clube|total_partidas_cartoes|total_cartoes_amarelos|total_cartoes_vermelhos|total_vitorias|media_cartoes_amarelos|media_cartoes_vermelhos|\n+-----+----------------------+----------------------+-----------------------+--------------+----------------------+-----------------------+\n|    0|                     0|                     0|                      0|             0|                     0|                      0|\n+-----+----------------------+----------------------+-----------------------+--------------+----------------------+-----------------------+\n\n+------+-----+----------+-------+\n|atleta|clube|num_camisa|posicao|\n+------+-----+----------+-------+\n|     0|    0|         0|      0|\n+------+-----+----------+-------+\n\n+-----+-----+\n|clube|arena|\n+-----+-----+\n|    0|    0|\n+-----+-----+\n\n+---+----+----+--------+---------+---------------+----------------+\n| ID|data|hora|mandante|visitante|mandante_Placar|visitante_Placar|\n+---+----+----+--------+---------+---------------+----------------+\n|  0|   0|   0|       0|        0|              0|               0|\n+---+----+----+--------+---------+---------------+----------------+\n\n"
     ]
    }
   ],
   "source": [
    "# Criar tabelas de dimensão\n",
    "dim_jogadores_df = cartoes_silver_df.select(\"atleta\", \"clube\", \"num_camisa\", \"posicao\").distinct()\n",
    "dim_clubes_df = full_silver_df.select(F.col(\"mandante\").alias(\"clube\"), \"arena\").distinct()\n",
    "dim_partidas_df = full_silver_df.select(\"ID\", \"data\", \"hora\", \"mandante\", \"visitante\", \"mandante_Placar\", \"visitante_Placar\").distinct()\n",
    "\n",
    "# Verificar valores nulos nas tabelas de dimensão\n",
    "exibir_valores_nulos(fatos_clubes_completo_df)\n",
    "exibir_valores_nulos(dim_jogadores_df)\n",
    "exibir_valores_nulos(dim_clubes_df)\n",
    "exibir_valores_nulos(dim_partidas_df)\n"
   ]
  },
  {
   "cell_type": "code",
   "execution_count": 0,
   "metadata": {
    "application/vnd.databricks.v1+cell": {
     "cellMetadata": {
      "byteLimit": 2048000,
      "rowLimit": 10000
     },
     "inputWidgets": {},
     "nuid": "7f145bce-4460-4ed9-9507-c1de6f3a18ed",
     "showTitle": false,
     "title": ""
    }
   },
   "outputs": [
    {
     "output_type": "stream",
     "name": "stdout",
     "output_type": "stream",
     "text": [
      "Tabelas Gold criadas com sucesso.\n"
     ]
    }
   ],
   "source": [
    "# Criar tabelas temporárias Gold\n",
    "fatos_clubes_completo_df.createOrReplaceTempView(\"fatos_clubes\")\n",
    "dim_jogadores_df.createOrReplaceTempView(\"dim_jogadores\")\n",
    "dim_clubes_df.createOrReplaceTempView(\"dim_clubes\")\n",
    "dim_partidas_df.createOrReplaceTempView(\"dim_partidas\")\n",
    "\n",
    "# Salvar os DataFrames como tabelas permanentes em formato Parquet\n",
    "fatos_clubes_completo_df.write.format(\"parquet\").mode(\"overwrite\").saveAsTable(\"fatos_clubes\")\n",
    "dim_jogadores_df.write.format(\"parquet\").mode(\"overwrite\").saveAsTable(\"dim_jogadores\")\n",
    "dim_clubes_df.write.format(\"parquet\").mode(\"overwrite\").saveAsTable(\"dim_clubes\")\n",
    "dim_partidas_df.write.format(\"parquet\").mode(\"overwrite\").saveAsTable(\"dim_partidas\")\n",
    "\n",
    "print(\"Tabelas Gold criadas com sucesso.\")"
   ]
  }
 ],
 "metadata": {
  "application/vnd.databricks.v1+notebook": {
   "dashboards": [],
   "environmentMetadata": null,
   "language": "python",
   "notebookMetadata": {
    "pythonIndentUnit": 4
   },
   "notebookName": "Gold",
   "widgets": {}
  }
 },
 "nbformat": 4,
 "nbformat_minor": 0
}
